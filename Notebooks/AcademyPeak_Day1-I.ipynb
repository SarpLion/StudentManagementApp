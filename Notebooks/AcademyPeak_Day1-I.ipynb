{
  "cells": [
    {
      "cell_type": "markdown",
      "metadata": {
        "id": "view-in-github",
        "colab_type": "text"
      },
      "source": [
        "<a href=\"https://colab.research.google.com/github/SarpLion/StudentManagementApp/blob/main/Notebooks/AcademyPeak_Day1-I.ipynb\" target=\"_parent\"><img src=\"https://colab.research.google.com/assets/colab-badge.svg\" alt=\"Open In Colab\"/></a>"
      ]
    },
    {
      "cell_type": "markdown",
      "metadata": {
        "id": "xBq8uEszJkqw"
      },
      "source": [
        "# Python 101"
      ]
    },
    {
      "cell_type": "markdown",
      "metadata": {
        "id": "_X2Domno3Vhg"
      },
      "source": [
        "## Python as a calculator"
      ]
    },
    {
      "cell_type": "code",
      "execution_count": 2,
      "metadata": {
        "id": "UV7rtAqt3Vhg",
        "outputId": "89b06fb4-4ad4-409b-b0f8-5bfb96b55e8a",
        "colab": {
          "base_uri": "https://localhost:8080/"
        }
      },
      "outputs": [
        {
          "output_type": "execute_result",
          "data": {
            "text/plain": [
              "8"
            ]
          },
          "metadata": {},
          "execution_count": 2
        }
      ],
      "source": [
        "3+5"
      ]
    },
    {
      "cell_type": "markdown",
      "metadata": {
        "id": "rOEAqInQGFVu"
      },
      "source": [
        "## Computations"
      ]
    },
    {
      "cell_type": "code",
      "execution_count": 3,
      "metadata": {
        "colab": {
          "base_uri": "https://localhost:8080/"
        },
        "id": "OQzlT59exPuY",
        "outputId": "36d042e0-7eeb-48c5-fd12-fa6d8e5ba2d7"
      },
      "outputs": [
        {
          "output_type": "execute_result",
          "data": {
            "text/plain": [
              "25"
            ]
          },
          "metadata": {},
          "execution_count": 3
        }
      ],
      "source": [
        "5**2"
      ]
    },
    {
      "cell_type": "code",
      "execution_count": 4,
      "metadata": {
        "colab": {
          "base_uri": "https://localhost:8080/"
        },
        "id": "IT5uTIgBGRIz",
        "outputId": "5ea4a372-547e-4051-ad54-1d96c4bc77c5"
      },
      "outputs": [
        {
          "output_type": "execute_result",
          "data": {
            "text/plain": [
              "-32"
            ]
          },
          "metadata": {},
          "execution_count": 4
        }
      ],
      "source": [
        "35-67"
      ]
    },
    {
      "cell_type": "code",
      "execution_count": 5,
      "metadata": {
        "colab": {
          "base_uri": "https://localhost:8080/",
          "height": 35
        },
        "id": "UIwXGkZqGVId",
        "outputId": "cdd7b695-df41-40a1-f4b8-ca1a7ed42bb9"
      },
      "outputs": [
        {
          "output_type": "execute_result",
          "data": {
            "text/plain": [
              "'3567'"
            ],
            "application/vnd.google.colaboratory.intrinsic+json": {
              "type": "string"
            }
          },
          "metadata": {},
          "execution_count": 5
        }
      ],
      "source": [
        "\"35\"+\"67\""
      ]
    },
    {
      "cell_type": "code",
      "execution_count": 6,
      "metadata": {
        "colab": {
          "base_uri": "https://localhost:8080/",
          "height": 141
        },
        "id": "Qx0vjBUmGZNk",
        "outputId": "b838aa1e-9a8e-463e-f6af-630403abc26c"
      },
      "outputs": [
        {
          "output_type": "error",
          "ename": "TypeError",
          "evalue": "can only concatenate str (not \"int\") to str",
          "traceback": [
            "\u001b[0;31m---------------------------------------------------------------------------\u001b[0m",
            "\u001b[0;31mTypeError\u001b[0m                                 Traceback (most recent call last)",
            "\u001b[0;32m/tmp/ipython-input-4036311488.py\u001b[0m in \u001b[0;36m<cell line: 0>\u001b[0;34m()\u001b[0m\n\u001b[0;32m----> 1\u001b[0;31m \u001b[0;34m\"35\"\u001b[0m \u001b[0;34m+\u001b[0m \u001b[0;36m67\u001b[0m\u001b[0;34m\u001b[0m\u001b[0;34m\u001b[0m\u001b[0m\n\u001b[0m",
            "\u001b[0;31mTypeError\u001b[0m: can only concatenate str (not \"int\") to str"
          ]
        }
      ],
      "source": [
        "\"35\" + 67"
      ]
    },
    {
      "cell_type": "code",
      "execution_count": null,
      "metadata": {
        "id": "dK-oYiHb3Vhj"
      },
      "outputs": [],
      "source": [
        "5 * 2"
      ]
    },
    {
      "cell_type": "code",
      "execution_count": null,
      "metadata": {
        "id": "_EzMFsTMGbw5"
      },
      "outputs": [],
      "source": [
        "\"35\"*3"
      ]
    },
    {
      "cell_type": "code",
      "execution_count": 7,
      "metadata": {
        "colab": {
          "base_uri": "https://localhost:8080/",
          "height": 35
        },
        "id": "X_FiEHA9GlUH",
        "outputId": "ed750bee-86b8-4d43-bd30-3e295728f19e"
      },
      "outputs": [
        {
          "output_type": "execute_result",
          "data": {
            "text/plain": [
              "'hellohellohellohello'"
            ],
            "application/vnd.google.colaboratory.intrinsic+json": {
              "type": "string"
            }
          },
          "metadata": {},
          "execution_count": 7
        }
      ],
      "source": [
        "\"hello\"*4"
      ]
    },
    {
      "cell_type": "code",
      "execution_count": 8,
      "metadata": {
        "id": "qCIBU4v8HH3Y"
      },
      "outputs": [],
      "source": [
        "x = 10"
      ]
    },
    {
      "cell_type": "code",
      "execution_count": 9,
      "metadata": {
        "id": "QLPAOXxO3Vhk",
        "outputId": "59fce838-d068-4e80-9fb8-f5427dc1c5c9",
        "colab": {
          "base_uri": "https://localhost:8080/"
        }
      },
      "outputs": [
        {
          "output_type": "stream",
          "name": "stdout",
          "text": [
            "12\n"
          ]
        }
      ],
      "source": [
        "print(x+2)"
      ]
    },
    {
      "cell_type": "code",
      "execution_count": 10,
      "metadata": {
        "id": "6joTOBVc3Vhk",
        "outputId": "178f427c-294f-43df-f4a6-381cc0bacfe5",
        "colab": {
          "base_uri": "https://localhost:8080/"
        }
      },
      "outputs": [
        {
          "output_type": "stream",
          "name": "stdout",
          "text": [
            "8\n"
          ]
        }
      ],
      "source": [
        "print(x-2)"
      ]
    },
    {
      "cell_type": "code",
      "execution_count": 11,
      "metadata": {
        "id": "wo9N9z7c3Vhk",
        "outputId": "8acd6c77-b2f2-4f5e-af7f-b61d25b41558",
        "colab": {
          "base_uri": "https://localhost:8080/"
        }
      },
      "outputs": [
        {
          "output_type": "stream",
          "name": "stdout",
          "text": [
            "20\n"
          ]
        }
      ],
      "source": [
        "print(x*2)"
      ]
    },
    {
      "cell_type": "code",
      "execution_count": 12,
      "metadata": {
        "id": "DMxhYIv73Vhk",
        "outputId": "8cb52d6e-d4fb-4e82-a134-2cce097e8545",
        "colab": {
          "base_uri": "https://localhost:8080/"
        }
      },
      "outputs": [
        {
          "output_type": "stream",
          "name": "stdout",
          "text": [
            "100\n"
          ]
        }
      ],
      "source": [
        "print(x**2)"
      ]
    },
    {
      "cell_type": "code",
      "execution_count": 13,
      "metadata": {
        "id": "fSRSwEID3Vhk",
        "outputId": "5ba36388-3309-4c5d-f9c4-828f91c02705",
        "colab": {
          "base_uri": "https://localhost:8080/"
        }
      },
      "outputs": [
        {
          "output_type": "stream",
          "name": "stdout",
          "text": [
            "5.0\n"
          ]
        }
      ],
      "source": [
        "print(x/2)"
      ]
    },
    {
      "cell_type": "code",
      "execution_count": 14,
      "metadata": {
        "id": "Iv8tLOQx3Vhl",
        "outputId": "6372b90f-de45-4d80-c993-2f1172a966d7",
        "colab": {
          "base_uri": "https://localhost:8080/"
        }
      },
      "outputs": [
        {
          "output_type": "stream",
          "name": "stdout",
          "text": [
            "0\n"
          ]
        }
      ],
      "source": [
        "print(x%2)"
      ]
    },
    {
      "cell_type": "code",
      "execution_count": 15,
      "metadata": {
        "id": "Bj0_DKEQ3Vhl"
      },
      "outputs": [],
      "source": [
        "y = 13"
      ]
    },
    {
      "cell_type": "code",
      "execution_count": 16,
      "metadata": {
        "scrolled": true,
        "id": "NZCbVqfg3Vhl",
        "outputId": "17eb2afa-18d3-4691-c373-eb47e79fcfda",
        "colab": {
          "base_uri": "https://localhost:8080/"
        }
      },
      "outputs": [
        {
          "output_type": "stream",
          "name": "stdout",
          "text": [
            "6.5\n"
          ]
        }
      ],
      "source": [
        "print(y/2)"
      ]
    },
    {
      "cell_type": "code",
      "execution_count": 17,
      "metadata": {
        "colab": {
          "base_uri": "https://localhost:8080/"
        },
        "id": "imzLVXBYLNhW",
        "outputId": "e01db42a-c1af-403e-fd41-6f6276f257b9"
      },
      "outputs": [
        {
          "output_type": "stream",
          "name": "stdout",
          "text": [
            "1\n"
          ]
        }
      ],
      "source": [
        "print(y%2)"
      ]
    },
    {
      "cell_type": "code",
      "execution_count": 18,
      "metadata": {
        "id": "nDsDYn4u3Vhl"
      },
      "outputs": [],
      "source": [
        "z = 5"
      ]
    },
    {
      "cell_type": "code",
      "execution_count": 19,
      "metadata": {
        "id": "xFHpG-zc3Vhl",
        "outputId": "7a5d1be7-c283-491d-b485-7fd19177d365",
        "colab": {
          "base_uri": "https://localhost:8080/"
        }
      },
      "outputs": [
        {
          "output_type": "execute_result",
          "data": {
            "text/plain": [
              "10"
            ]
          },
          "metadata": {},
          "execution_count": 19
        }
      ],
      "source": [
        "z*2"
      ]
    },
    {
      "cell_type": "code",
      "execution_count": 20,
      "metadata": {
        "id": "tsmcZXAp3Vhl",
        "outputId": "59c02f12-26b6-4633-be07-86f3ab7c660d",
        "colab": {
          "base_uri": "https://localhost:8080/"
        }
      },
      "outputs": [
        {
          "output_type": "execute_result",
          "data": {
            "text/plain": [
              "5"
            ]
          },
          "metadata": {},
          "execution_count": 20
        }
      ],
      "source": [
        "z"
      ]
    },
    {
      "cell_type": "code",
      "execution_count": 21,
      "metadata": {
        "id": "eynqDmN13Vhl",
        "outputId": "9ca53081-44cd-4e2e-ca25-6b6a01c3f57a",
        "colab": {
          "base_uri": "https://localhost:8080/"
        }
      },
      "outputs": [
        {
          "output_type": "execute_result",
          "data": {
            "text/plain": [
              "6"
            ]
          },
          "metadata": {},
          "execution_count": 21
        }
      ],
      "source": [
        "z+1"
      ]
    },
    {
      "cell_type": "code",
      "execution_count": 22,
      "metadata": {
        "id": "92xvqzLm3Vhm"
      },
      "outputs": [],
      "source": [
        "z = z+1"
      ]
    },
    {
      "cell_type": "code",
      "execution_count": 23,
      "metadata": {
        "id": "9XE5zjH73Vhm",
        "outputId": "d37ffc63-489d-403f-c9a3-bae937721227",
        "colab": {
          "base_uri": "https://localhost:8080/"
        }
      },
      "outputs": [
        {
          "output_type": "execute_result",
          "data": {
            "text/plain": [
              "6"
            ]
          },
          "metadata": {},
          "execution_count": 23
        }
      ],
      "source": [
        "z"
      ]
    },
    {
      "cell_type": "code",
      "execution_count": 24,
      "metadata": {
        "id": "BtaYeaAN3Vhm"
      },
      "outputs": [],
      "source": [
        "z += 1"
      ]
    },
    {
      "cell_type": "code",
      "execution_count": 25,
      "metadata": {
        "id": "Tr7nJVc53Vhm",
        "outputId": "1a24627a-42bf-4983-9459-57b37d517829",
        "colab": {
          "base_uri": "https://localhost:8080/"
        }
      },
      "outputs": [
        {
          "output_type": "execute_result",
          "data": {
            "text/plain": [
              "7"
            ]
          },
          "metadata": {},
          "execution_count": 25
        }
      ],
      "source": [
        "z"
      ]
    },
    {
      "cell_type": "code",
      "execution_count": 26,
      "metadata": {
        "id": "MKzVlPQk3Vhm"
      },
      "outputs": [],
      "source": [
        "z = z*2"
      ]
    },
    {
      "cell_type": "code",
      "execution_count": 27,
      "metadata": {
        "colab": {
          "base_uri": "https://localhost:8080/"
        },
        "id": "2HOE_xOGL3WQ",
        "outputId": "a3e70b6b-6f30-4d66-9d66-973bd660bd68"
      },
      "outputs": [
        {
          "output_type": "execute_result",
          "data": {
            "text/plain": [
              "28"
            ]
          },
          "metadata": {},
          "execution_count": 27
        }
      ],
      "source": [
        "z*=2\n",
        "z"
      ]
    },
    {
      "cell_type": "code",
      "execution_count": 28,
      "metadata": {
        "id": "KaDnTCqQ3Vhm",
        "outputId": "4215855f-61b6-4014-f41d-7a83c2d81119",
        "colab": {
          "base_uri": "https://localhost:8080/"
        }
      },
      "outputs": [
        {
          "output_type": "execute_result",
          "data": {
            "text/plain": [
              "10.5"
            ]
          },
          "metadata": {},
          "execution_count": 28
        }
      ],
      "source": [
        "6 + 4.5"
      ]
    },
    {
      "cell_type": "code",
      "execution_count": 28,
      "metadata": {
        "id": "iNHJu4ON3Vhm"
      },
      "outputs": [],
      "source": []
    },
    {
      "cell_type": "code",
      "execution_count": 28,
      "metadata": {
        "id": "xqIeafoO3Vhm"
      },
      "outputs": [],
      "source": []
    },
    {
      "cell_type": "markdown",
      "metadata": {
        "id": "HMUDlnzZJkqx"
      },
      "source": [
        "![image](https://media.geeksforgeeks.org/wp-content/uploads/20191023173512/Python-data-structure.jpg)\n",
        "\n",
        "credit: https://www.geeksforgeeks.org/"
      ]
    },
    {
      "cell_type": "markdown",
      "metadata": {
        "id": "wi7JYDao3Vhn"
      },
      "source": [
        "![mutable/immutable objects](https://miro.medium.com/max/1316/1*uFlTNY4W3czywyU18zxl8w.png)\n",
        "\n",
        "credit: https://medium.com/@meghamohan/mutable-and-immutable-side-of-python-c2145cf72747"
      ]
    },
    {
      "cell_type": "markdown",
      "metadata": {
        "id": "WF0c72S0Jkqy"
      },
      "source": [
        "___\n",
        "## Karakter Dizileri ( Strings )"
      ]
    },
    {
      "cell_type": "code",
      "execution_count": 29,
      "metadata": {
        "colab": {
          "base_uri": "https://localhost:8080/",
          "height": 35
        },
        "id": "WK9Tyo8qJkqz",
        "outputId": "5c782f74-f211-4225-9c84-44bd2ef5486e"
      },
      "outputs": [
        {
          "output_type": "execute_result",
          "data": {
            "text/plain": [
              "'c'"
            ],
            "application/vnd.google.colaboratory.intrinsic+json": {
              "type": "string"
            }
          },
          "metadata": {},
          "execution_count": 29
        }
      ],
      "source": [
        "'c'"
      ]
    },
    {
      "cell_type": "code",
      "execution_count": 30,
      "metadata": {
        "colab": {
          "base_uri": "https://localhost:8080/",
          "height": 35
        },
        "id": "2u69GOy6Jkq5",
        "outputId": "334f312f-ca68-4e50-dfc5-5f83b5943208"
      },
      "outputs": [
        {
          "output_type": "execute_result",
          "data": {
            "text/plain": [
              "' '"
            ],
            "application/vnd.google.colaboratory.intrinsic+json": {
              "type": "string"
            }
          },
          "metadata": {},
          "execution_count": 30
        }
      ],
      "source": [
        "' '\n",
        "\n",
        "\" \"\n",
        "\n",
        "\"\"\" \"\"\""
      ]
    },
    {
      "cell_type": "code",
      "execution_count": 31,
      "metadata": {
        "colab": {
          "base_uri": "https://localhost:8080/",
          "height": 35
        },
        "id": "bB2TZmfXJkq7",
        "outputId": "fa73ed92-f976-4a8b-ebaf-6c24ba7d024f"
      },
      "outputs": [
        {
          "output_type": "execute_result",
          "data": {
            "text/plain": [
              "'Hello World'"
            ],
            "application/vnd.google.colaboratory.intrinsic+json": {
              "type": "string"
            }
          },
          "metadata": {},
          "execution_count": 31
        }
      ],
      "source": [
        "\"Hello World\""
      ]
    },
    {
      "cell_type": "code",
      "execution_count": 32,
      "metadata": {
        "colab": {
          "base_uri": "https://localhost:8080/",
          "height": 35
        },
        "id": "2x4g3wh6Jkq9",
        "outputId": "f0c79b65-e249-4f1f-80bc-6c390e3b2bd6"
      },
      "outputs": [
        {
          "output_type": "execute_result",
          "data": {
            "text/plain": [
              "'\\nLorem \\nipsum\\n'"
            ],
            "application/vnd.google.colaboratory.intrinsic+json": {
              "type": "string"
            }
          },
          "metadata": {},
          "execution_count": 32
        }
      ],
      "source": [
        "\"\"\"\n",
        "Lorem\n",
        "ipsum\n",
        "\"\"\""
      ]
    },
    {
      "cell_type": "code",
      "execution_count": 33,
      "metadata": {
        "colab": {
          "base_uri": "https://localhost:8080/"
        },
        "id": "aYSkdveQJkq_",
        "outputId": "9cf97bf5-e4f4-4c89-e2e0-edd1ac195b72"
      },
      "outputs": [
        {
          "output_type": "execute_result",
          "data": {
            "text/plain": [
              "str"
            ]
          },
          "metadata": {},
          "execution_count": 33
        }
      ],
      "source": [
        "type('Lorem ipsum')"
      ]
    },
    {
      "cell_type": "code",
      "execution_count": 34,
      "metadata": {
        "colab": {
          "base_uri": "https://localhost:8080/",
          "height": 35
        },
        "id": "f3hIC_cTJkrB",
        "outputId": "30f13351-8ab5-4dc8-eb6a-74055e6ef5a9"
      },
      "outputs": [
        {
          "output_type": "execute_result",
          "data": {
            "text/plain": [
              "'Lorem ipsum'"
            ],
            "application/vnd.google.colaboratory.intrinsic+json": {
              "type": "string"
            }
          },
          "metadata": {},
          "execution_count": 34
        }
      ],
      "source": [
        "\"Lorem\" +  \" \" + \"ipsum\""
      ]
    },
    {
      "cell_type": "code",
      "execution_count": 35,
      "metadata": {
        "colab": {
          "base_uri": "https://localhost:8080/",
          "height": 35
        },
        "id": "wFsjpwIsJkrE",
        "outputId": "a8aeba36-3d63-40a3-cfe0-17b765f677c7"
      },
      "outputs": [
        {
          "output_type": "execute_result",
          "data": {
            "text/plain": [
              "'Python bir proglama dilidir.'"
            ],
            "application/vnd.google.colaboratory.intrinsic+json": {
              "type": "string"
            }
          },
          "metadata": {},
          "execution_count": 35
        }
      ],
      "source": [
        "\"Python\" \" \" \"bir\" \" \" \"proglama\" \" \" \"dilidir.\""
      ]
    },
    {
      "cell_type": "markdown",
      "metadata": {
        "id": "vQse1DFIJkrI"
      },
      "source": [
        "___\n",
        "## Sayılar ( Numbers )"
      ]
    },
    {
      "cell_type": "code",
      "execution_count": 36,
      "metadata": {
        "colab": {
          "base_uri": "https://localhost:8080/"
        },
        "id": "vHy6mIU1JkrI",
        "outputId": "488488b8-322e-44d5-aa32-b7eda12b2317"
      },
      "outputs": [
        {
          "output_type": "execute_result",
          "data": {
            "text/plain": [
              "int"
            ]
          },
          "metadata": {},
          "execution_count": 36
        }
      ],
      "source": [
        "type(123)"
      ]
    },
    {
      "cell_type": "code",
      "execution_count": 37,
      "metadata": {
        "colab": {
          "base_uri": "https://localhost:8080/"
        },
        "id": "quas3r0gJkrK",
        "outputId": "1b136ec4-8698-4d34-d0ec-76210a044c71"
      },
      "outputs": [
        {
          "output_type": "execute_result",
          "data": {
            "text/plain": [
              "float"
            ]
          },
          "metadata": {},
          "execution_count": 37
        }
      ],
      "source": [
        "type(22.3)"
      ]
    },
    {
      "cell_type": "code",
      "execution_count": 38,
      "metadata": {
        "colab": {
          "base_uri": "https://localhost:8080/"
        },
        "id": "Ah4oWZ2QJkrM",
        "outputId": "71df0cf5-9433-4131-b703-2f7ededc03bd"
      },
      "outputs": [
        {
          "output_type": "execute_result",
          "data": {
            "text/plain": [
              "complex"
            ]
          },
          "metadata": {},
          "execution_count": 38
        }
      ],
      "source": [
        "type(7+2j)"
      ]
    },
    {
      "cell_type": "markdown",
      "metadata": {
        "id": "LC5-o1chJkrO"
      },
      "source": [
        "___\n",
        "## Aritmetik Oparatörler ( Arithmetic Operators )"
      ]
    },
    {
      "cell_type": "code",
      "execution_count": 39,
      "metadata": {
        "colab": {
          "base_uri": "https://localhost:8080/"
        },
        "id": "ECFbr1XuJkrO",
        "outputId": "0c7f5839-08b3-4613-a57c-64c2fbfe2c37"
      },
      "outputs": [
        {
          "output_type": "execute_result",
          "data": {
            "text/plain": [
              "45"
            ]
          },
          "metadata": {},
          "execution_count": 39
        }
      ],
      "source": [
        "100 - 55"
      ]
    },
    {
      "cell_type": "code",
      "execution_count": 40,
      "metadata": {
        "colab": {
          "base_uri": "https://localhost:8080/"
        },
        "id": "wZsYupFqJkrQ",
        "outputId": "858294b3-39a2-4cf8-83cc-5718dc78b902"
      },
      "outputs": [
        {
          "output_type": "execute_result",
          "data": {
            "text/plain": [
              "3.3"
            ]
          },
          "metadata": {},
          "execution_count": 40
        }
      ],
      "source": [
        "4.5 - 1.2"
      ]
    },
    {
      "cell_type": "code",
      "execution_count": 41,
      "metadata": {
        "colab": {
          "base_uri": "https://localhost:8080/"
        },
        "id": "gKx04jX5JkrS",
        "outputId": "d57dfa3a-ecbb-40f7-9fbe-133eefa254b7"
      },
      "outputs": [
        {
          "output_type": "execute_result",
          "data": {
            "text/plain": [
              "9.0"
            ]
          },
          "metadata": {},
          "execution_count": 41
        }
      ],
      "source": [
        "4.5 * 2"
      ]
    },
    {
      "cell_type": "code",
      "execution_count": 42,
      "metadata": {
        "colab": {
          "base_uri": "https://localhost:8080/"
        },
        "id": "3m1dbTPRJkrU",
        "outputId": "da8458fa-139b-4706-ed1a-b6191c41cd60"
      },
      "outputs": [
        {
          "output_type": "execute_result",
          "data": {
            "text/plain": [
              "5.0"
            ]
          },
          "metadata": {},
          "execution_count": 42
        }
      ],
      "source": [
        "10 / 2"
      ]
    },
    {
      "cell_type": "code",
      "execution_count": 43,
      "metadata": {
        "colab": {
          "base_uri": "https://localhost:8080/"
        },
        "id": "GkaKS_zyJkrW",
        "outputId": "ce1b890c-1323-4514-b619-b6ad2f330d8f"
      },
      "outputs": [
        {
          "output_type": "execute_result",
          "data": {
            "text/plain": [
              "16"
            ]
          },
          "metadata": {},
          "execution_count": 43
        }
      ],
      "source": [
        "4**2"
      ]
    },
    {
      "cell_type": "code",
      "execution_count": 44,
      "metadata": {
        "colab": {
          "base_uri": "https://localhost:8080/"
        },
        "id": "x8nFQ7-2JkrY",
        "outputId": "2c7536bd-4348-4eac-e399-74276167feeb"
      },
      "outputs": [
        {
          "output_type": "execute_result",
          "data": {
            "text/plain": [
              "1"
            ]
          },
          "metadata": {},
          "execution_count": 44
        }
      ],
      "source": [
        "10 % 3"
      ]
    },
    {
      "cell_type": "code",
      "execution_count": 45,
      "metadata": {
        "colab": {
          "base_uri": "https://localhost:8080/"
        },
        "id": "GkuRzYdiJkra",
        "outputId": "26fad54f-72b4-4634-ed2e-707f1972a884"
      },
      "outputs": [
        {
          "output_type": "execute_result",
          "data": {
            "text/plain": [
              "3"
            ]
          },
          "metadata": {},
          "execution_count": 45
        }
      ],
      "source": [
        "10 // 3"
      ]
    },
    {
      "cell_type": "code",
      "execution_count": 46,
      "metadata": {
        "colab": {
          "base_uri": "https://localhost:8080/"
        },
        "id": "HiVV2JdBJkrc",
        "outputId": "5b29f9f1-8a53-4ab6-de00-bfa8f79a3a78"
      },
      "outputs": [
        {
          "output_type": "execute_result",
          "data": {
            "text/plain": [
              "25"
            ]
          },
          "metadata": {},
          "execution_count": 46
        }
      ],
      "source": [
        "pow(5, 2)"
      ]
    },
    {
      "cell_type": "code",
      "execution_count": 47,
      "metadata": {
        "colab": {
          "base_uri": "https://localhost:8080/"
        },
        "id": "pvzE9wvCJkre",
        "outputId": "e3903ebe-03c7-434e-cccc-36582c635df6"
      },
      "outputs": [
        {
          "output_type": "execute_result",
          "data": {
            "text/plain": [
              "int"
            ]
          },
          "metadata": {},
          "execution_count": 47
        }
      ],
      "source": [
        "type(2020)"
      ]
    },
    {
      "cell_type": "code",
      "execution_count": 48,
      "metadata": {
        "colab": {
          "base_uri": "https://localhost:8080/",
          "height": 35
        },
        "id": "j2O1BKgfJkrG",
        "outputId": "5489287e-3cbe-4ade-d410-c7e8d2e4462e"
      },
      "outputs": [
        {
          "output_type": "execute_result",
          "data": {
            "text/plain": [
              "'PythonPython'"
            ],
            "application/vnd.google.colaboratory.intrinsic+json": {
              "type": "string"
            }
          },
          "metadata": {},
          "execution_count": 48
        }
      ],
      "source": [
        "\"Python\"*2"
      ]
    },
    {
      "cell_type": "markdown",
      "metadata": {
        "id": "OS_gd-AjJkry"
      },
      "source": [
        "___\n",
        "## Değişkenler ( Variables )"
      ]
    },
    {
      "cell_type": "code",
      "execution_count": 49,
      "metadata": {
        "id": "NVU2uRsKJkry"
      },
      "outputs": [],
      "source": [
        "değişken1 = 112\n",
        "değişken2 = 155"
      ]
    },
    {
      "cell_type": "code",
      "execution_count": 50,
      "metadata": {
        "colab": {
          "base_uri": "https://localhost:8080/"
        },
        "id": "YtzLclPYJkr0",
        "outputId": "0fceb903-4132-4a20-acbc-637b5fbd1b1b"
      },
      "outputs": [
        {
          "output_type": "execute_result",
          "data": {
            "text/plain": [
              "112"
            ]
          },
          "metadata": {},
          "execution_count": 50
        }
      ],
      "source": [
        "değişken1"
      ]
    },
    {
      "cell_type": "code",
      "execution_count": 51,
      "metadata": {
        "id": "S_l93AIwJkr2"
      },
      "outputs": [],
      "source": [
        "değişken1, değişken2 = değişken2, değişken1"
      ]
    },
    {
      "cell_type": "code",
      "execution_count": 52,
      "metadata": {
        "colab": {
          "base_uri": "https://localhost:8080/"
        },
        "id": "rjy2dTpmJkr3",
        "outputId": "03c4ec7f-91a5-48d6-a806-9fb167d4a6b3"
      },
      "outputs": [
        {
          "output_type": "execute_result",
          "data": {
            "text/plain": [
              "155"
            ]
          },
          "metadata": {},
          "execution_count": 52
        }
      ],
      "source": [
        "değişken1"
      ]
    },
    {
      "cell_type": "code",
      "execution_count": 53,
      "metadata": {
        "id": "blSdUaiwJkrh"
      },
      "outputs": [],
      "source": [
        "saatlik_ücret = 10\n",
        "haftalık_çalışma_saati = 40"
      ]
    },
    {
      "cell_type": "code",
      "execution_count": 54,
      "metadata": {
        "colab": {
          "base_uri": "https://localhost:8080/"
        },
        "id": "w84b9N1iJkrj",
        "outputId": "00ca9516-418d-4f88-deeb-ab9e85d7c0a6"
      },
      "outputs": [
        {
          "output_type": "execute_result",
          "data": {
            "text/plain": [
              "400"
            ]
          },
          "metadata": {},
          "execution_count": 54
        }
      ],
      "source": [
        "maaş = haftalık_çalışma_saati * saatlik_ücret\n",
        "maaş"
      ]
    },
    {
      "cell_type": "code",
      "execution_count": 55,
      "metadata": {
        "id": "ipZ5R5XpJkrk"
      },
      "outputs": [],
      "source": [
        "username = \"admin\""
      ]
    },
    {
      "cell_type": "code",
      "execution_count": 56,
      "metadata": {
        "id": "RWhzoaoNJkrn"
      },
      "outputs": [],
      "source": [
        "password = \"password\""
      ]
    },
    {
      "cell_type": "code",
      "execution_count": 57,
      "metadata": {
        "colab": {
          "base_uri": "https://localhost:8080/"
        },
        "id": "bJ-h6zLIJkrp",
        "outputId": "37c1af7f-e796-4308-b452-698535998a85"
      },
      "outputs": [
        {
          "output_type": "execute_result",
          "data": {
            "text/plain": [
              "5"
            ]
          },
          "metadata": {},
          "execution_count": 57
        }
      ],
      "source": [
        "len(username)"
      ]
    },
    {
      "cell_type": "code",
      "execution_count": 58,
      "metadata": {
        "colab": {
          "base_uri": "https://localhost:8080/"
        },
        "id": "bhiKQN4QJkrr",
        "outputId": "e7aef6b1-a30f-4cd5-f462-ab1445403390"
      },
      "outputs": [
        {
          "output_type": "execute_result",
          "data": {
            "text/plain": [
              "13"
            ]
          },
          "metadata": {},
          "execution_count": 58
        }
      ],
      "source": [
        "len(username) + len(password)"
      ]
    },
    {
      "cell_type": "code",
      "execution_count": 59,
      "metadata": {
        "colab": {
          "base_uri": "https://localhost:8080/"
        },
        "id": "0h-Svli1Jkrt",
        "outputId": "c07f891a-ee49-4696-8b9b-d85cfd31fd56"
      },
      "outputs": [
        {
          "output_type": "stream",
          "name": "stdout",
          "text": [
            "10\n",
            "5\n",
            "25\n",
            "5.0\n",
            "25.0\n",
            "6.0\n",
            "1.0\n"
          ]
        }
      ],
      "source": [
        "sayı = 5\n",
        "# 5\n",
        "\n",
        "sayı += 5\n",
        "print(sayı)\n",
        "# 10\n",
        "\n",
        "sayı -= 5\n",
        "print(sayı)\n",
        "# 5\n",
        "\n",
        "sayı *= 5\n",
        "print(sayı)\n",
        "# 25\n",
        "\n",
        "sayı /= 5\n",
        "print(sayı)\n",
        "# 5.0\n",
        "\n",
        "sayı **= 2\n",
        "print(sayı)\n",
        "# 25.0\n",
        "\n",
        "sayı //= 4\n",
        "print(sayı)\n",
        "# 6.0\n",
        "\n",
        "sayı %= 5\n",
        "print(sayı)\n",
        "# 1.0"
      ]
    },
    {
      "cell_type": "code",
      "execution_count": 60,
      "metadata": {
        "colab": {
          "base_uri": "https://localhost:8080/"
        },
        "id": "XZ3euUGuJkru",
        "outputId": "24c426fb-0d22-4a1f-f5c6-3d18f16a2d44"
      },
      "outputs": [
        {
          "output_type": "execute_result",
          "data": {
            "text/plain": [
              "['False',\n",
              " 'None',\n",
              " 'True',\n",
              " 'and',\n",
              " 'as',\n",
              " 'assert',\n",
              " 'async',\n",
              " 'await',\n",
              " 'break',\n",
              " 'class',\n",
              " 'continue',\n",
              " 'def',\n",
              " 'del',\n",
              " 'elif',\n",
              " 'else',\n",
              " 'except',\n",
              " 'finally',\n",
              " 'for',\n",
              " 'from',\n",
              " 'global',\n",
              " 'if',\n",
              " 'import',\n",
              " 'in',\n",
              " 'is',\n",
              " 'lambda',\n",
              " 'nonlocal',\n",
              " 'not',\n",
              " 'or',\n",
              " 'pass',\n",
              " 'raise',\n",
              " 'return',\n",
              " 'try',\n",
              " 'while',\n",
              " 'with',\n",
              " 'yield']"
            ]
          },
          "metadata": {},
          "execution_count": 60
        }
      ],
      "source": [
        "#anahtar kelimeler\n",
        "import keyword\n",
        "keyword.kwlist"
      ]
    },
    {
      "cell_type": "markdown",
      "metadata": {
        "id": "oXefclbtJkr5"
      },
      "source": [
        "___\n",
        "## Print Fonksiyonu"
      ]
    },
    {
      "cell_type": "code",
      "execution_count": 61,
      "metadata": {
        "id": "gwkgfTSo3Vhv",
        "outputId": "ecf6a3a7-fac2-45d6-f62b-03115d22c9c1",
        "colab": {
          "base_uri": "https://localhost:8080/"
        }
      },
      "outputs": [
        {
          "output_type": "stream",
          "name": "stdout",
          "text": [
            "Hello World\n"
          ]
        }
      ],
      "source": [
        "print(\"Hello World\")"
      ]
    },
    {
      "cell_type": "code",
      "execution_count": 62,
      "metadata": {
        "colab": {
          "base_uri": "https://localhost:8080/"
        },
        "id": "zMyB-Ss8Jkr5",
        "outputId": "befd5ab9-6de9-4d76-fe14-e14bcb8bd29f"
      },
      "outputs": [
        {
          "output_type": "stream",
          "name": "stdout",
          "text": [
            "Lorem Ipsum is simply dummy text\n"
          ]
        }
      ],
      "source": [
        "print(\"Lorem\", \"Ipsum\", \"is\", \"simply\", \"dummy\", \"text\")"
      ]
    },
    {
      "cell_type": "code",
      "execution_count": 63,
      "metadata": {
        "colab": {
          "base_uri": "https://localhost:8080/"
        },
        "id": "WjIT8y4NJkr7",
        "outputId": "4b0a8d6f-a4df-4e47-d27a-b2f419a95920"
      },
      "outputs": [
        {
          "output_type": "stream",
          "name": "stdout",
          "text": [
            "Lorem Ipsum is simply dummy text\n"
          ]
        }
      ],
      "source": [
        "print(\"Lorem Ipsum is simply dummy text\", sep=\" \", end=\"\\n\")"
      ]
    },
    {
      "cell_type": "code",
      "execution_count": 64,
      "metadata": {
        "colab": {
          "base_uri": "https://localhost:8080/"
        },
        "id": "zzrxTH1xJkr9",
        "outputId": "3414cb7a-3331-4d86-96fe-d1a8feb52a05"
      },
      "outputs": [
        {
          "output_type": "stream",
          "name": "stdout",
          "text": [
            "Lorem-Ipsum-is-simply-dummy-text\n"
          ]
        }
      ],
      "source": [
        "print(\"Lorem\", \"Ipsum\", \"is\", \"simply\", \"dummy\", \"text\", sep=\"-\", end=\"\\n\")"
      ]
    },
    {
      "cell_type": "code",
      "execution_count": 65,
      "metadata": {
        "colab": {
          "base_uri": "https://localhost:8080/"
        },
        "id": "PXC2avEeJkr-",
        "outputId": "244a3c17-3636-40e2-d42e-68ab98657989"
      },
      "outputs": [
        {
          "output_type": "stream",
          "name": "stdout",
          "text": [
            "Lorem-py-Ipsum-py-is-py-simply-py-dummy-py-text!!"
          ]
        }
      ],
      "source": [
        "print(\"Lorem\", \"Ipsum\", \"is\", \"simply\", \"dummy\", \"text\", sep=\"-py-\", end=\"!!\")"
      ]
    },
    {
      "cell_type": "code",
      "execution_count": 66,
      "metadata": {
        "colab": {
          "base_uri": "https://localhost:8080/"
        },
        "id": "ReIClT58JksB",
        "outputId": "722e9c17-5365-4bbf-d749-bb39c4eb3c93"
      },
      "outputs": [
        {
          "output_type": "stream",
          "name": "stdout",
          "text": [
            "L-o-r-e-m- -i-p-s-u-m\n"
          ]
        }
      ],
      "source": [
        "print(*\"Lorem ipsum\", sep=\"-\")"
      ]
    },
    {
      "cell_type": "code",
      "execution_count": 67,
      "metadata": {
        "colab": {
          "base_uri": "https://localhost:8080/"
        },
        "id": "1bWuHVxxJksD",
        "outputId": "7e8cc9d5-0ca6-4f7a-9f8e-6aa8e51b57b7"
      },
      "outputs": [
        {
          "output_type": "stream",
          "name": "stdout",
          "text": [
            "Ölü Ozanlar Derneği 1989\n"
          ]
        }
      ],
      "source": [
        "print(\"Ölü\", \"Ozanlar\", \"Derneği\", 1989)"
      ]
    },
    {
      "cell_type": "code",
      "execution_count": 68,
      "metadata": {
        "colab": {
          "base_uri": "https://localhost:8080/"
        },
        "id": "W2Qxkm6DJksF",
        "outputId": "2981edcf-fb8f-4bfb-8bd7-7f47bda95a06"
      },
      "outputs": [
        {
          "output_type": "stream",
          "name": "stdout",
          "text": [
            "Python is an interpreted, high-level, general-purpose programming language. Created by Guido van Rossum and first released in 1991, Python has a design philosophy that emphasizes code readability, notably using significant whitespace. It provides constructs that enable clear programming on both small and large scales. \n"
          ]
        }
      ],
      "source": [
        "print(\"Python is an interpreted, high-level, general-purpose programming language. Created by Guido van Rossum and first released in 1991, Python has a design philosophy that emphasizes code readability, notably using significant whitespace. It provides constructs that enable clear programming on both small and large scales. \")"
      ]
    },
    {
      "cell_type": "code",
      "execution_count": 69,
      "metadata": {
        "colab": {
          "base_uri": "https://localhost:8080/",
          "height": 106
        },
        "id": "4O1dUaSLJksH",
        "outputId": "9fa838d2-6f96-4446-a069-ef2429023766"
      },
      "outputs": [
        {
          "output_type": "error",
          "ename": "SyntaxError",
          "evalue": "unterminated string literal (detected at line 1) (ipython-input-1782209091.py, line 1)",
          "traceback": [
            "\u001b[0;36m  File \u001b[0;32m\"/tmp/ipython-input-1782209091.py\"\u001b[0;36m, line \u001b[0;32m1\u001b[0m\n\u001b[0;31m    print(\"Ölü\u001b[0m\n\u001b[0m          ^\u001b[0m\n\u001b[0;31mSyntaxError\u001b[0m\u001b[0;31m:\u001b[0m unterminated string literal (detected at line 1)\n"
          ]
        }
      ],
      "source": [
        "print(\"Ölü\n",
        "      Ozanlar\n",
        "      Derneği\")"
      ]
    },
    {
      "cell_type": "code",
      "execution_count": null,
      "metadata": {
        "id": "Whp0QyTfJksJ"
      },
      "outputs": [],
      "source": [
        "print(\"\"\"Ölü\n",
        "Ozanlar\n",
        "Derneği\"\"\")"
      ]
    },
    {
      "cell_type": "code",
      "execution_count": null,
      "metadata": {
        "id": "c0pdZlIWJksM"
      },
      "outputs": [],
      "source": [
        "print(\"\\\"Dünya Güneş Venüs Mars\\\"\")"
      ]
    },
    {
      "cell_type": "code",
      "execution_count": null,
      "metadata": {
        "id": "n1ItmqInJksO"
      },
      "outputs": [],
      "source": [
        "print(\"Gül sokak 10\\\\7 Merkez\\\\Niğde\")"
      ]
    },
    {
      "cell_type": "code",
      "execution_count": null,
      "metadata": {
        "id": "VvH7DFFsJksP"
      },
      "outputs": [],
      "source": [
        "print(\"Eski Satırbaşı\\rYeni\")"
      ]
    },
    {
      "cell_type": "code",
      "execution_count": null,
      "metadata": {
        "id": "Kcdy2EF8JksQ"
      },
      "outputs": [],
      "source": [
        "print(\"Birkaç boşluk\\taralık\")"
      ]
    },
    {
      "cell_type": "code",
      "execution_count": null,
      "metadata": {
        "id": "ey3PqjZG3Vhx"
      },
      "outputs": [],
      "source": [
        "print(r\"\\nMerhaba\\tDünya\\r\\\\\")"
      ]
    },
    {
      "cell_type": "markdown",
      "metadata": {
        "id": "3B7tlffyJksS"
      },
      "source": [
        "___\n",
        "## Kullanıcıdan Veri Almak ( input() )"
      ]
    },
    {
      "cell_type": "code",
      "execution_count": null,
      "metadata": {
        "id": "dkLi7oGXJksS"
      },
      "outputs": [],
      "source": [
        "isim = input(\"İsminiz: \")\n",
        "yaş = input(\"Yaşınız: \")\n",
        "print(isim, yaş)"
      ]
    },
    {
      "cell_type": "code",
      "execution_count": null,
      "metadata": {
        "id": "rn36GmZeJksT"
      },
      "outputs": [],
      "source": [
        "yaş + 10"
      ]
    },
    {
      "cell_type": "code",
      "execution_count": null,
      "metadata": {
        "id": "khSPjLXwJksV"
      },
      "outputs": [],
      "source": [
        "type(yaş)"
      ]
    },
    {
      "cell_type": "markdown",
      "metadata": {
        "id": "mq-btx0zJksY"
      },
      "source": [
        "___\n",
        "## Tip Dönüşümleri ( Type Casting )"
      ]
    },
    {
      "cell_type": "code",
      "execution_count": null,
      "metadata": {
        "id": "pl9GcoiSJksY"
      },
      "outputs": [],
      "source": [
        "yaş = int(yaş) + 10\n",
        "print(yaş)\n",
        "print(type(yaş))"
      ]
    },
    {
      "cell_type": "code",
      "execution_count": null,
      "metadata": {
        "id": "GT0_jzMIJksb"
      },
      "outputs": [],
      "source": [
        "yaş = float(yaş) + 5.5\n",
        "print(yaş)\n",
        "print(type(yaş))"
      ]
    },
    {
      "cell_type": "code",
      "execution_count": null,
      "metadata": {
        "id": "tM7yyV_pJksd"
      },
      "outputs": [],
      "source": [
        "print(isim + \" \" + str(yaş) + \" yaşında!\")"
      ]
    },
    {
      "cell_type": "code",
      "execution_count": null,
      "metadata": {
        "id": "A968qrVFJksf"
      },
      "outputs": [],
      "source": [
        "print(\"Üs hesaplamak için\")\n",
        "sayı1 = int(input(\"Taban sayıyı girin: \"))\n",
        "sayı2 = int(input(\"Üs sayıyı girin: \"))\n",
        "print(sayı1, \"**\", sayı2, \"=\", pow(sayı1,sayı2))"
      ]
    },
    {
      "cell_type": "markdown",
      "metadata": {
        "id": "RAuM0ATP3Vhy"
      },
      "source": [
        "___\n",
        "## Karakter Dizisi Biçimlendirme ( String Formatting )"
      ]
    },
    {
      "cell_type": "code",
      "execution_count": null,
      "metadata": {
        "id": "xLAdbedkJksh"
      },
      "outputs": [],
      "source": [
        "print(\"Selam, benim adım {1} ve {0} yaşındayım!\".format(isim, 33))"
      ]
    },
    {
      "cell_type": "code",
      "execution_count": null,
      "metadata": {
        "id": "TQgVS2PPJksi"
      },
      "outputs": [],
      "source": [
        "print(f\"Selam, benim adım {isim} ve {yaş-10} yaşındayım!\")"
      ]
    },
    {
      "cell_type": "markdown",
      "metadata": {
        "id": "mV8-cCo-3Vhy"
      },
      "source": [
        "## Karakter Dizilerinin Methotları ( String Methods )"
      ]
    },
    {
      "cell_type": "code",
      "execution_count": null,
      "metadata": {
        "id": "RbUcubFiJkt5"
      },
      "outputs": [],
      "source": [
        "string = 'Hikmet ÖZBEN'"
      ]
    },
    {
      "cell_type": "code",
      "execution_count": null,
      "metadata": {
        "id": "11EJ2W5xJkt6"
      },
      "outputs": [],
      "source": [
        "print(string[0])"
      ]
    },
    {
      "cell_type": "code",
      "execution_count": null,
      "metadata": {
        "id": "QHzrJbz-Jkt7"
      },
      "outputs": [],
      "source": [
        "print(string[0:4])\n",
        "print(string[0:len(string)])\n",
        "print(string[0:len(string):2])"
      ]
    },
    {
      "cell_type": "code",
      "execution_count": null,
      "metadata": {
        "id": "blONGE1PJkt_"
      },
      "outputs": [],
      "source": [
        "print(string.lower())\n",
        "print(string.upper())"
      ]
    },
    {
      "cell_type": "code",
      "execution_count": null,
      "metadata": {
        "id": "5W0OEZHhJkuA"
      },
      "outputs": [],
      "source": [
        "print(string)\n",
        "\n",
        "string = string.replace('ÖZBEN', 'BENOL')\n",
        "print(string)\n",
        "\n",
        "string = string.replace('Hikmet', 'Turgut')\n",
        "print(string)"
      ]
    },
    {
      "cell_type": "code",
      "execution_count": null,
      "metadata": {
        "id": "7e5Q7Q-pJkuB"
      },
      "outputs": [],
      "source": [
        "print(\"A\".islower())\n",
        "print(\"A\".isupper())"
      ]
    },
    {
      "cell_type": "code",
      "execution_count": null,
      "metadata": {
        "id": "R5eCZqgcJkuD"
      },
      "outputs": [],
      "source": [
        "print(string.startswith('Hikmet'))\n",
        "print(string.endswith('OL'))"
      ]
    },
    {
      "cell_type": "code",
      "execution_count": null,
      "metadata": {
        "id": "xgXTiG3nJkuE"
      },
      "outputs": [],
      "source": [
        "string.split(\" \")"
      ]
    },
    {
      "cell_type": "code",
      "execution_count": null,
      "metadata": {
        "id": "vkHYejIQJkuG"
      },
      "outputs": [],
      "source": [
        "string = string.split()\n",
        "string = \"cum \".join(string)\n",
        "print(string)"
      ]
    },
    {
      "cell_type": "code",
      "execution_count": null,
      "metadata": {
        "id": "uKzCcZ03JkuH"
      },
      "outputs": [],
      "source": [
        "gezegenler = \"Merkür,Venüs,Dünya,Mars,Jüpiter,Satürn,Uranüs,Neptün\"\n",
        "gezegenler = gezegenler.split(\",\")\n",
        "print(gezegenler)\n",
        "\n",
        "sıralanmış_gezegenler = \" - \".join(sorted(gezegenler, reverse=True))\n",
        "\"\"\"\n",
        "sıralanmış_gezegenler = sorted(gezegenler)\n",
        "sıralanmış_gezegenler = sıralanmış_gezegenler[::-1]\n",
        "sıralanmış_gezgenler = \" - \".join(sıralanmış_gezegenler)\n",
        "print(sıralanmış_gezegenler)\n",
        "\"\"\"\n",
        "print(sıralanmış_gezegenler)\n"
      ]
    },
    {
      "cell_type": "code",
      "execution_count": null,
      "metadata": {
        "id": "LTBL28HTJkuI"
      },
      "outputs": [],
      "source": [
        "gezegenler = \"     Merkür Venüs Dünya Mars Jüpiter Satürn Uranüs Neptün       \"\n",
        "gezegenler.strip()"
      ]
    },
    {
      "cell_type": "code",
      "execution_count": null,
      "metadata": {
        "id": "PJqqFF7OJkuJ"
      },
      "outputs": [],
      "source": [
        "gezegenler = \"     Merkür Venüs Dünya Mars Jüpiter Satürn Uranüs Neptün       \"\n",
        "gezegenler.rstrip()"
      ]
    },
    {
      "cell_type": "markdown",
      "metadata": {
        "id": "RDxzsIKf3Vh0"
      },
      "source": [
        "## Print Function"
      ]
    },
    {
      "cell_type": "code",
      "execution_count": null,
      "metadata": {
        "id": "IV4GGgbr3Vh0"
      },
      "outputs": [],
      "source": [
        "print()"
      ]
    },
    {
      "cell_type": "code",
      "execution_count": null,
      "metadata": {
        "id": "UmnHV4UM3Vh0"
      },
      "outputs": [],
      "source": [
        "print(4+6)"
      ]
    },
    {
      "cell_type": "code",
      "execution_count": null,
      "metadata": {
        "id": "IVLGDnWY3Vh0"
      },
      "outputs": [],
      "source": [
        "print(7)"
      ]
    },
    {
      "cell_type": "code",
      "execution_count": null,
      "metadata": {
        "id": "dxT8D3J13Vh0"
      },
      "outputs": [],
      "source": [
        "print(\"7\")"
      ]
    },
    {
      "cell_type": "code",
      "execution_count": null,
      "metadata": {
        "id": "NGB3j3LcdcbR"
      },
      "outputs": [],
      "source": [
        "print(\"Hello World\")  #printing strings"
      ]
    },
    {
      "cell_type": "code",
      "execution_count": null,
      "metadata": {
        "id": "luSgefSQgFrV"
      },
      "outputs": [],
      "source": [
        "print('Hello World')"
      ]
    },
    {
      "cell_type": "code",
      "execution_count": null,
      "metadata": {
        "id": "g_52IrQIgcPv"
      },
      "outputs": [],
      "source": [
        "print(\"Hello1\")\n",
        "print(\"Hello2\")\n",
        "print(\"Hello3\")"
      ]
    },
    {
      "cell_type": "code",
      "execution_count": null,
      "metadata": {
        "id": "2ualX2qpg3Hy"
      },
      "outputs": [],
      "source": [
        "print \"Hello World\""
      ]
    },
    {
      "cell_type": "code",
      "execution_count": null,
      "metadata": {
        "id": "0BOHOWOdhcgp"
      },
      "outputs": [],
      "source": [
        "print(Hello) #Hello is a variable"
      ]
    },
    {
      "cell_type": "code",
      "execution_count": null,
      "metadata": {
        "id": "G69sCzFUhi5j"
      },
      "outputs": [],
      "source": [
        "print(\"Hello')"
      ]
    },
    {
      "cell_type": "markdown",
      "metadata": {
        "id": "cJ9sM9IZ3Vh1"
      },
      "source": [
        "## Commenting"
      ]
    },
    {
      "cell_type": "code",
      "execution_count": null,
      "metadata": {
        "id": "JsFmw9IuFSKR"
      },
      "outputs": [],
      "source": [
        "#commenting\n",
        "#taking notes"
      ]
    },
    {
      "cell_type": "code",
      "execution_count": null,
      "metadata": {
        "id": "llzXRK61FadN"
      },
      "outputs": [],
      "source": [
        "\"\"\"\n",
        "Hello world\n",
        "dbashjdghjgas\n",
        "\"\"\"\n",
        "\n",
        "'''\n",
        "aefdfhd\n",
        "asgfsfjdgm\n",
        "zfhdfhjgjm\n",
        "sgrsfgjdgjm\n",
        "'''"
      ]
    },
    {
      "cell_type": "markdown",
      "metadata": {
        "id": "Krc5HwdxkFvT"
      },
      "source": [
        "## Variable Assignment"
      ]
    },
    {
      "cell_type": "code",
      "execution_count": null,
      "metadata": {
        "id": "Qa9KHLFM3Vh1"
      },
      "outputs": [],
      "source": [
        "n = 300"
      ]
    },
    {
      "cell_type": "code",
      "execution_count": null,
      "metadata": {
        "id": "0PjHydHD3Vh2"
      },
      "outputs": [],
      "source": [
        "n"
      ]
    },
    {
      "cell_type": "code",
      "execution_count": null,
      "metadata": {
        "id": "pPGSAtCS3Vh2"
      },
      "outputs": [],
      "source": [
        "print(n)"
      ]
    },
    {
      "cell_type": "code",
      "execution_count": null,
      "metadata": {
        "id": "CpBTwTgi3Vh2"
      },
      "outputs": [],
      "source": [
        "type(n) #checking the type of a variable"
      ]
    },
    {
      "cell_type": "code",
      "execution_count": null,
      "metadata": {
        "id": "Mje6Plyd3Vh2"
      },
      "outputs": [],
      "source": [
        "type(1000)"
      ]
    },
    {
      "cell_type": "code",
      "execution_count": null,
      "metadata": {
        "id": "52RKM8n33Vh2"
      },
      "outputs": [],
      "source": [
        "m = n"
      ]
    },
    {
      "cell_type": "code",
      "execution_count": null,
      "metadata": {
        "id": "18yuPbb5m9GG"
      },
      "outputs": [],
      "source": [
        "print(m)"
      ]
    },
    {
      "cell_type": "code",
      "execution_count": null,
      "metadata": {
        "id": "M9YuXxyO3Vh2"
      },
      "outputs": [],
      "source": [
        "m = 400"
      ]
    },
    {
      "cell_type": "code",
      "execution_count": null,
      "metadata": {
        "id": "8uc9Nw3h3Vh2"
      },
      "outputs": [],
      "source": [
        "n = 500"
      ]
    },
    {
      "cell_type": "code",
      "execution_count": null,
      "metadata": {
        "id": "hQwxVTEP3Vh2"
      },
      "outputs": [],
      "source": [
        "m"
      ]
    },
    {
      "cell_type": "code",
      "execution_count": null,
      "metadata": {
        "id": "mHfdWex43Vh3"
      },
      "outputs": [],
      "source": [
        "print(type(m))"
      ]
    },
    {
      "cell_type": "code",
      "execution_count": null,
      "metadata": {
        "id": "GO6WONnhnVjB"
      },
      "outputs": [],
      "source": [
        "hello = \"World\""
      ]
    },
    {
      "cell_type": "code",
      "execution_count": null,
      "metadata": {
        "id": "2YZLBCcinyfx"
      },
      "outputs": [],
      "source": [
        "print(hello) #printing variables"
      ]
    },
    {
      "cell_type": "code",
      "execution_count": null,
      "metadata": {
        "id": "MZ5oH3ak3Vh3"
      },
      "outputs": [],
      "source": [
        "print(\"World\")"
      ]
    },
    {
      "cell_type": "code",
      "execution_count": null,
      "metadata": {
        "id": "letAfxW_oHH-"
      },
      "outputs": [],
      "source": [
        "print(type(hello))"
      ]
    },
    {
      "cell_type": "code",
      "execution_count": null,
      "metadata": {
        "id": "FMM4y1JXMjsL"
      },
      "outputs": [],
      "source": [
        "t = 3.5\n",
        "print(type(t))"
      ]
    },
    {
      "cell_type": "code",
      "execution_count": null,
      "metadata": {
        "id": "Csx5UUHb3Vh3"
      },
      "outputs": [],
      "source": [
        "t = True #assigning booleans"
      ]
    },
    {
      "cell_type": "code",
      "execution_count": null,
      "metadata": {
        "id": "UyAvJRfS3Vh3"
      },
      "outputs": [],
      "source": [
        "f = False"
      ]
    },
    {
      "cell_type": "code",
      "execution_count": null,
      "metadata": {
        "id": "kXQkvBnI3Vh3"
      },
      "outputs": [],
      "source": [
        "print(type(f))"
      ]
    },
    {
      "cell_type": "code",
      "execution_count": null,
      "metadata": {
        "id": "7DtsrxEHyHUH"
      },
      "outputs": [],
      "source": [
        "t, f = True, False\n",
        "print(type(t))"
      ]
    },
    {
      "cell_type": "code",
      "execution_count": null,
      "metadata": {
        "id": "UleuXLMVwCgG"
      },
      "outputs": [],
      "source": [
        "print(len(hello)) #len function"
      ]
    },
    {
      "cell_type": "code",
      "execution_count": null,
      "metadata": {
        "id": "T7x_GUwvwKcS"
      },
      "outputs": [],
      "source": [
        "print(len(m))"
      ]
    },
    {
      "cell_type": "code",
      "execution_count": null,
      "metadata": {
        "id": "A00AHl_a3Vh4"
      },
      "outputs": [],
      "source": [
        "len(gizem)"
      ]
    },
    {
      "cell_type": "code",
      "execution_count": null,
      "metadata": {
        "id": "CTkJ3E6-M1To"
      },
      "outputs": [],
      "source": [
        "name = \"Gizem\"\n",
        "print(f'Hello {name}')  #F-String"
      ]
    },
    {
      "cell_type": "code",
      "execution_count": null,
      "metadata": {
        "id": "2DNth2hV3Vh4"
      },
      "outputs": [],
      "source": [
        "print(f'I have {m} books')"
      ]
    },
    {
      "cell_type": "code",
      "execution_count": null,
      "metadata": {
        "id": "EHh1q5xX3Vh4"
      },
      "outputs": [],
      "source": [
        "type(\"#Gizem\")"
      ]
    },
    {
      "cell_type": "markdown",
      "metadata": {
        "id": "b2n4MypgRB0y"
      },
      "source": [
        "## Logical Operations"
      ]
    },
    {
      "cell_type": "code",
      "execution_count": null,
      "metadata": {
        "id": "gQPqkRSZRGJO"
      },
      "outputs": [],
      "source": [
        "t, f = True, False\n",
        "print(type(t))"
      ]
    },
    {
      "cell_type": "markdown",
      "metadata": {
        "id": "wFWsuvYR2c-n"
      },
      "source": [
        "![truthtable.PNG](data:image/png;base64,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)\n"
      ]
    },
    {
      "cell_type": "code",
      "execution_count": null,
      "metadata": {
        "id": "wtsd6E1H3Vh5"
      },
      "outputs": [],
      "source": [
        "print(t or f)"
      ]
    },
    {
      "cell_type": "code",
      "execution_count": null,
      "metadata": {
        "id": "pRyozkld3Vh5"
      },
      "outputs": [],
      "source": [
        "print(t and f)"
      ]
    },
    {
      "cell_type": "code",
      "execution_count": null,
      "metadata": {
        "id": "z6T6vUaX3Vh5"
      },
      "outputs": [],
      "source": [
        "print(not t)    # not: True if operand is false (complements the operand)"
      ]
    },
    {
      "cell_type": "code",
      "execution_count": null,
      "metadata": {
        "id": "MGm0fjih3Vh5"
      },
      "outputs": [],
      "source": [
        "print(t != f) # != not equal"
      ]
    },
    {
      "cell_type": "code",
      "execution_count": null,
      "metadata": {
        "id": "I3fjr9MA3Vh5"
      },
      "outputs": [],
      "source": [
        "print(1 != 1)"
      ]
    },
    {
      "cell_type": "code",
      "execution_count": null,
      "metadata": {
        "id": "GvI75XHkSd0s"
      },
      "outputs": [],
      "source": [
        "print(t==f)"
      ]
    },
    {
      "cell_type": "markdown",
      "metadata": {
        "id": "BZAgzCEb3Vh6"
      },
      "source": [
        "## Printing Strings"
      ]
    },
    {
      "cell_type": "code",
      "execution_count": null,
      "metadata": {
        "id": "4WTioQHYTGQF"
      },
      "outputs": [],
      "source": [
        "hello = 'Hello'\n",
        "world = \"World\""
      ]
    },
    {
      "cell_type": "code",
      "execution_count": null,
      "metadata": {
        "id": "LFbZwagX3Vh6"
      },
      "outputs": [],
      "source": [
        "len(world)"
      ]
    },
    {
      "cell_type": "code",
      "execution_count": null,
      "metadata": {
        "id": "UbnigwvsTZuK"
      },
      "outputs": [],
      "source": [
        "print(world, len(world))"
      ]
    },
    {
      "cell_type": "code",
      "execution_count": null,
      "metadata": {
        "id": "jODZt38d3Vh6"
      },
      "outputs": [],
      "source": [
        "#s is used as a placeholder for string values you want to inject into a formatted string.\n",
        "\n",
        "#%d is used as a placeholder for numeric or decimal values.\n",
        "\n",
        "\"\"\"\n",
        "The \"%\" operator is used to format a set of variables enclosed in a \"tuple\" (a fixed size list),\n",
        "together with a format string, which contains normal text together with \"argument specifiers\",\n",
        "special symbols like \"%s\" and \"%d\".\n",
        "\"\"\""
      ]
    },
    {
      "cell_type": "code",
      "execution_count": null,
      "metadata": {
        "id": "StaE_C_43Vh6"
      },
      "outputs": [],
      "source": [
        "world2 = '%s %d' % (world, len(world))"
      ]
    },
    {
      "cell_type": "code",
      "execution_count": null,
      "metadata": {
        "id": "uYlxQfiGd_gy"
      },
      "outputs": [],
      "source": [
        "print(world2)"
      ]
    },
    {
      "cell_type": "code",
      "execution_count": null,
      "metadata": {
        "id": "GLqwYoScTlqo"
      },
      "outputs": [],
      "source": [
        "print(world + len(world))"
      ]
    },
    {
      "cell_type": "code",
      "execution_count": 70,
      "metadata": {
        "colab": {
          "base_uri": "https://localhost:8080/",
          "height": 141
        },
        "id": "OyY22MKZTp22",
        "outputId": "ce6019c1-aeee-432e-cc9e-097cdbbfd1e6"
      },
      "outputs": [
        {
          "output_type": "error",
          "ename": "NameError",
          "evalue": "name 'world' is not defined",
          "traceback": [
            "\u001b[0;31m---------------------------------------------------------------------------\u001b[0m",
            "\u001b[0;31mNameError\u001b[0m                                 Traceback (most recent call last)",
            "\u001b[0;32m/tmp/ipython-input-2956204915.py\u001b[0m in \u001b[0;36m<cell line: 0>\u001b[0;34m()\u001b[0m\n\u001b[0;32m----> 1\u001b[0;31m \u001b[0mprint\u001b[0m\u001b[0;34m(\u001b[0m\u001b[0mworld\u001b[0m \u001b[0;34m+\u001b[0m \u001b[0mstr\u001b[0m\u001b[0;34m(\u001b[0m\u001b[0mlen\u001b[0m\u001b[0;34m(\u001b[0m\u001b[0mworld\u001b[0m\u001b[0;34m)\u001b[0m\u001b[0;34m)\u001b[0m\u001b[0;34m)\u001b[0m\u001b[0;34m\u001b[0m\u001b[0;34m\u001b[0m\u001b[0m\n\u001b[0m",
            "\u001b[0;31mNameError\u001b[0m: name 'world' is not defined"
          ]
        }
      ],
      "source": [
        "print(world + str(len(world)))"
      ]
    },
    {
      "cell_type": "code",
      "execution_count": null,
      "metadata": {
        "id": "8H0sV2qr3Vh7"
      },
      "outputs": [],
      "source": [
        "print(world + \" \" + str(len(world)))"
      ]
    },
    {
      "cell_type": "code",
      "execution_count": null,
      "metadata": {
        "id": "SNdDgZ2-3Vh7"
      },
      "outputs": [],
      "source": [
        "world[0]"
      ]
    },
    {
      "cell_type": "code",
      "execution_count": null,
      "metadata": {
        "id": "uX643_bI3Vh7"
      },
      "outputs": [],
      "source": [
        "print(hello[0])"
      ]
    },
    {
      "cell_type": "code",
      "execution_count": null,
      "metadata": {
        "id": "vZjNAoLVR5U0"
      },
      "outputs": [],
      "source": [
        "print(hello[1])"
      ]
    },
    {
      "cell_type": "code",
      "execution_count": null,
      "metadata": {
        "id": "H2N5Cd9s3Vh7"
      },
      "outputs": [],
      "source": [
        "hello[2]"
      ]
    },
    {
      "cell_type": "code",
      "execution_count": null,
      "metadata": {
        "id": "LNlbxzV03Vh7"
      },
      "outputs": [],
      "source": [
        "print(world[-1])"
      ]
    },
    {
      "cell_type": "code",
      "execution_count": null,
      "metadata": {
        "id": "obQknvFZWF5t"
      },
      "outputs": [],
      "source": [
        "print(world[-3])"
      ]
    },
    {
      "cell_type": "code",
      "execution_count": null,
      "metadata": {
        "id": "CwVJZDqqWWyu"
      },
      "outputs": [],
      "source": [
        "world[-5]"
      ]
    },
    {
      "cell_type": "code",
      "execution_count": null,
      "metadata": {
        "id": "1gW2be5tWek7"
      },
      "outputs": [],
      "source": [
        "hello[2:4]  # 2nd and 3rd characters"
      ]
    },
    {
      "cell_type": "code",
      "execution_count": null,
      "metadata": {
        "id": "DFxoKm3daCMP"
      },
      "outputs": [],
      "source": [
        "world[1:4]"
      ]
    },
    {
      "cell_type": "code",
      "execution_count": null,
      "metadata": {
        "id": "aJ4PKy8TaHpD"
      },
      "outputs": [],
      "source": [
        "print(world[3:5])"
      ]
    },
    {
      "cell_type": "code",
      "execution_count": null,
      "metadata": {
        "id": "5rfBoQjx3Vh8"
      },
      "outputs": [],
      "source": [
        "print(world[3:])"
      ]
    },
    {
      "cell_type": "code",
      "execution_count": null,
      "metadata": {
        "id": "ygsSpdGDaani"
      },
      "outputs": [],
      "source": [
        "hello[:4]"
      ]
    },
    {
      "cell_type": "code",
      "execution_count": null,
      "metadata": {
        "id": "OE38aYOvafxr"
      },
      "outputs": [],
      "source": [
        "hello[:]"
      ]
    },
    {
      "cell_type": "code",
      "execution_count": 71,
      "metadata": {
        "colab": {
          "base_uri": "https://localhost:8080/",
          "height": 141
        },
        "id": "4d12Mq3n03zL",
        "outputId": "b4d837d9-7617-4d0b-946b-bf3328e54863"
      },
      "outputs": [
        {
          "output_type": "error",
          "ename": "NameError",
          "evalue": "name 'hello' is not defined",
          "traceback": [
            "\u001b[0;31m---------------------------------------------------------------------------\u001b[0m",
            "\u001b[0;31mNameError\u001b[0m                                 Traceback (most recent call last)",
            "\u001b[0;32m/tmp/ipython-input-2530604729.py\u001b[0m in \u001b[0;36m<cell line: 0>\u001b[0;34m()\u001b[0m\n\u001b[0;32m----> 1\u001b[0;31m \u001b[0mhello\u001b[0m\u001b[0;34m[\u001b[0m\u001b[0;34m:\u001b[0m\u001b[0;34m:\u001b[0m\u001b[0;34m-\u001b[0m\u001b[0;36m1\u001b[0m\u001b[0;34m]\u001b[0m\u001b[0;34m\u001b[0m\u001b[0;34m\u001b[0m\u001b[0m\n\u001b[0m",
            "\u001b[0;31mNameError\u001b[0m: name 'hello' is not defined"
          ]
        }
      ],
      "source": [
        "hello[::-1]"
      ]
    },
    {
      "cell_type": "code",
      "execution_count": null,
      "metadata": {
        "id": "vG076dUoalJq"
      },
      "outputs": [],
      "source": [
        "world[:-3]"
      ]
    },
    {
      "cell_type": "code",
      "execution_count": null,
      "metadata": {
        "id": "podjbsYX3Vh9"
      },
      "outputs": [],
      "source": [
        "hello[2:5]"
      ]
    },
    {
      "cell_type": "code",
      "execution_count": null,
      "metadata": {
        "id": "1kCxbvrVauoV"
      },
      "outputs": [],
      "source": [
        "hello[2:len(world)]"
      ]
    },
    {
      "cell_type": "code",
      "execution_count": 72,
      "metadata": {
        "colab": {
          "base_uri": "https://localhost:8080/",
          "height": 141
        },
        "id": "3hrKJQS2a6A5",
        "outputId": "7f69d9ff-ae0d-48ac-ade4-bc2432f5f775"
      },
      "outputs": [
        {
          "output_type": "error",
          "ename": "NameError",
          "evalue": "name 'world' is not defined",
          "traceback": [
            "\u001b[0;31m---------------------------------------------------------------------------\u001b[0m",
            "\u001b[0;31mNameError\u001b[0m                                 Traceback (most recent call last)",
            "\u001b[0;32m/tmp/ipython-input-1126503713.py\u001b[0m in \u001b[0;36m<cell line: 0>\u001b[0;34m()\u001b[0m\n\u001b[0;32m----> 1\u001b[0;31m \u001b[0mworld\u001b[0m\u001b[0;34m[\u001b[0m\u001b[0;36m2\u001b[0m\u001b[0;34m:\u001b[0m\u001b[0;36m4\u001b[0m\u001b[0;34m:\u001b[0m\u001b[0;36m1\u001b[0m\u001b[0;34m]\u001b[0m   \u001b[0;31m# [beginning:end:step_size]\u001b[0m\u001b[0;34m\u001b[0m\u001b[0;34m\u001b[0m\u001b[0m\n\u001b[0m",
            "\u001b[0;31mNameError\u001b[0m: name 'world' is not defined"
          ]
        }
      ],
      "source": [
        "world[2:4:1]   # [beginning:end:step_size]"
      ]
    },
    {
      "cell_type": "code",
      "execution_count": null,
      "metadata": {
        "id": "1Kgd14H_bNAj"
      },
      "outputs": [],
      "source": [
        "city = \"istanbul\"\n",
        "city[0:6:2]"
      ]
    },
    {
      "cell_type": "code",
      "execution_count": null,
      "metadata": {
        "id": "7DcJJgzHcLUe"
      },
      "outputs": [],
      "source": [
        "\"t\" in city"
      ]
    },
    {
      "cell_type": "code",
      "execution_count": null,
      "metadata": {
        "id": "JpWOAe0lcVlX"
      },
      "outputs": [],
      "source": [
        "\"y\" in city"
      ]
    },
    {
      "cell_type": "code",
      "execution_count": null,
      "metadata": {
        "id": "mAFs1_oMcYgR"
      },
      "outputs": [],
      "source": [
        "\"anb\" in city"
      ]
    },
    {
      "cell_type": "code",
      "execution_count": null,
      "metadata": {
        "id": "0CTtKKESbR4o"
      },
      "outputs": [],
      "source": [
        "\"snl\" in city"
      ]
    },
    {
      "cell_type": "code",
      "execution_count": null,
      "metadata": {
        "id": "5lEA4XvscNz4"
      },
      "outputs": [],
      "source": [
        "n = 10\n",
        "str(n)"
      ]
    },
    {
      "cell_type": "code",
      "execution_count": null,
      "metadata": {
        "id": "fzWxmiIwcZQw"
      },
      "outputs": [],
      "source": [
        "s = '13'\n",
        "int(s)"
      ]
    },
    {
      "cell_type": "code",
      "execution_count": null,
      "metadata": {
        "id": "qOehpC90cqeg"
      },
      "outputs": [],
      "source": [
        "s = 'ist'\n",
        "int(s)"
      ]
    },
    {
      "cell_type": "code",
      "execution_count": null,
      "metadata": {
        "id": "Cqef9NxWcu0f"
      },
      "outputs": [],
      "source": [
        "m = 8\n",
        "print(float(m))"
      ]
    },
    {
      "cell_type": "code",
      "execution_count": null,
      "metadata": {
        "id": "QOay86Z9dqQb"
      },
      "outputs": [],
      "source": [
        "ai = 'artificial' + ' ' + 'intelligence'\n",
        "print(ai)"
      ]
    },
    {
      "cell_type": "code",
      "execution_count": null,
      "metadata": {
        "id": "az6ygCGue2sY"
      },
      "outputs": [],
      "source": [
        "word = 'machine learning'\n",
        "print(word.capitalize())"
      ]
    },
    {
      "cell_type": "code",
      "execution_count": null,
      "metadata": {
        "id": "3nF1ST9UfCGu"
      },
      "outputs": [],
      "source": [
        "print(word.upper())"
      ]
    },
    {
      "cell_type": "code",
      "execution_count": null,
      "metadata": {
        "id": "9r6KvgMYfiVQ"
      },
      "outputs": [],
      "source": [
        "print(word.replace('machine','artificial'))"
      ]
    },
    {
      "cell_type": "code",
      "execution_count": null,
      "metadata": {
        "id": "TjnWT_9Zfs2r"
      },
      "outputs": [],
      "source": [
        "word"
      ]
    },
    {
      "cell_type": "code",
      "execution_count": null,
      "metadata": {
        "id": "AOxtlNCg3Vh_"
      },
      "outputs": [],
      "source": [
        "word2 = \"          artificial general      intelligence\""
      ]
    },
    {
      "cell_type": "code",
      "execution_count": null,
      "metadata": {
        "id": "xYbREcHN3Vh_"
      },
      "outputs": [],
      "source": [
        "word2"
      ]
    },
    {
      "cell_type": "code",
      "execution_count": null,
      "metadata": {
        "id": "H1WYJsidfw-G"
      },
      "outputs": [],
      "source": [
        "print(word2.strip()) #delete spaces in the beginning and end"
      ]
    },
    {
      "cell_type": "code",
      "execution_count": null,
      "metadata": {
        "id": "Voc6zKLzhlmv"
      },
      "outputs": [],
      "source": [
        "y = input(\"Please enter a city name: \")  #input takes string as a parameter"
      ]
    },
    {
      "cell_type": "code",
      "execution_count": null,
      "metadata": {
        "id": "hJ21Rmqr3ViA"
      },
      "outputs": [],
      "source": [
        "print(y)"
      ]
    },
    {
      "cell_type": "code",
      "execution_count": null,
      "metadata": {
        "id": "QYfSg-gU3ViA"
      },
      "outputs": [],
      "source": [
        "type(y)"
      ]
    },
    {
      "cell_type": "code",
      "execution_count": null,
      "metadata": {
        "id": "3zyJI9oljhQi"
      },
      "outputs": [],
      "source": [
        "x = int(input(\"Please enter an integer: \"))\n",
        "print(x)"
      ]
    },
    {
      "cell_type": "code",
      "execution_count": null,
      "metadata": {
        "id": "A2vsCEPd3ViA"
      },
      "outputs": [],
      "source": [
        "type(7)"
      ]
    },
    {
      "cell_type": "code",
      "execution_count": null,
      "metadata": {
        "id": "OGS-YMaOlB34"
      },
      "outputs": [],
      "source": [
        "month = 12\n",
        "day = 365"
      ]
    },
    {
      "cell_type": "code",
      "execution_count": null,
      "metadata": {
        "id": "OTp5bHKW3ViA"
      },
      "outputs": [],
      "source": [
        "print('A year consists of ', month, 'months and ', day, 'days.')"
      ]
    },
    {
      "cell_type": "code",
      "execution_count": null,
      "metadata": {
        "id": "kPoWOQnQ3ViA"
      },
      "outputs": [],
      "source": [
        "print(\"A year consists of  \" + str(month) + \" months and \" + str(day) + \" days\")"
      ]
    },
    {
      "cell_type": "code",
      "execution_count": null,
      "metadata": {
        "id": "1ZrWhZAGgNID"
      },
      "outputs": [],
      "source": []
    }
  ],
  "metadata": {
    "kernelspec": {
      "display_name": "Python 3",
      "language": "python",
      "name": "python3"
    },
    "language_info": {
      "codemirror_mode": {
        "name": "ipython",
        "version": 3
      },
      "file_extension": ".py",
      "mimetype": "text/x-python",
      "name": "python",
      "nbconvert_exporter": "python",
      "pygments_lexer": "ipython3",
      "version": "3.7.3"
    },
    "colab": {
      "provenance": [],
      "include_colab_link": true
    }
  },
  "nbformat": 4,
  "nbformat_minor": 0
}